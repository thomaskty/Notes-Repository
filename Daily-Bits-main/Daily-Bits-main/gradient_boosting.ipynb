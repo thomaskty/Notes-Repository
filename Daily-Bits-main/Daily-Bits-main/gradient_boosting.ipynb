{
 "cells": [
  {
   "cell_type": "markdown",
   "id": "bc4f5010",
   "metadata": {},
   "source": [
    "* Generatlization of boosting to any arbitrary differentiable loss function\n",
    "* **Histogram based gradient boosting** is lot faster than gradient boosting if the number of samples is $>=10k$. This is inspired by light GBM. \n",
    "* These fast estimators first bin the input samples X into integer-valued bins (typically 256 bins) which tremendously reduces the number of splitting points to consider, and allows the algorithm to leverage integer-based data structures (histograms) instead of relying on sorted continuous values when building the trees.\n",
    "* ref : https://scikit-learn.org/stable/modules/ensemble.html#d1997\n",
    "* "
   ]
  },
  {
   "cell_type": "code",
   "execution_count": null,
   "id": "7fb86312",
   "metadata": {},
   "outputs": [],
   "source": []
  }
 ],
 "metadata": {
  "kernelspec": {
   "display_name": "Python 3 (ipykernel)",
   "language": "python",
   "name": "python3"
  },
  "language_info": {
   "codemirror_mode": {
    "name": "ipython",
    "version": 3
   },
   "file_extension": ".py",
   "mimetype": "text/x-python",
   "name": "python",
   "nbconvert_exporter": "python",
   "pygments_lexer": "ipython3",
   "version": "3.11.5"
  }
 },
 "nbformat": 4,
 "nbformat_minor": 5
}
