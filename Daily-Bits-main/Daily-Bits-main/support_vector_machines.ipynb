{
 "cells": [
  {
   "cell_type": "markdown",
   "id": "77911be8",
   "metadata": {},
   "source": [
    "**<font color=red> Support Vector Machines**"
   ]
  },
  {
   "cell_type": "markdown",
   "id": "bf7c933f",
   "metadata": {},
   "source": [
    "A support vector machines classifies observations by constructing a hyperplane that separates positive and negative samples. The observations which are closest to the margin from both classes, forms the gutters. They influence the orientation and position of the hyperplane. \n",
    "\n",
    "The objective is to find the hyperplane which has the largest margin.\n",
    "All the data samples can be projected into a vector which is orthogonal to the hyperplane. \n",
    "Now we make a classification rule as follows; \n",
    "\n",
    "\\begin{align}\n",
    "\\Large y_i(\\bar{w}*\\bar{x} + b) -1 \\geq 0\n",
    "\\end{align}\n",
    "\n",
    "For support vectors the above formula becomes; $y_i(\\bar{w}*\\bar{x} + b) -1=0$"
   ]
  },
  {
   "cell_type": "markdown",
   "id": "b6c69dbf",
   "metadata": {},
   "source": [
    "* In general, if the data is perfectly separate using a hyperplane, then there will in fact exist an infinte number of such hyperplanes. \n",
    "* A natural choice is the maximal margin hyperplane,which is the separating hyperplane that is farthest from the training observations. That is, we can compute the(perpendicular) distance from each training observation to a given separating hyperplane; the smallest such distance is the minimal distance from the observations to the hyperplane, and is known as the margin. \n",
    "* The maximal margin hyperplane is the separating hyperplane for which the margin is largest. It is the hyperplane that has the farthest minimum distance to the training observations. We can then classify a test observation based on which side of the maximal margin hyperplane it lies. This is known as the maximal margin classifier"
   ]
  },
  {
   "cell_type": "markdown",
   "id": "bc6c8ec8",
   "metadata": {},
   "source": [
    "\\begin{align}\n",
    "\\Large (x_+-x_-) * \\frac{\\bar{w}}{\\lVert w \\rVert} = \\frac{2}{\\lVert w \\rVert}\n",
    "\\end{align}\n",
    "\n",
    "\\begin{align}\n",
    "\\Large min \\frac{1}{2}{\\lVert w \\rVert}^2\n",
    "\\end{align}\n",
    "\n",
    "\\begin{align}\n",
    "\\Large L = \\frac{1}{2}{\\lVert w \\rVert}^2 + \\sum \\alpha_i [y_i(\\bar{w}*\\bar{x} + b) -1]\n",
    "\\end{align}"
   ]
  },
  {
   "cell_type": "markdown",
   "id": "4c91b397",
   "metadata": {},
   "source": [
    "\\begin{align}\n",
    "\\Large w = \\sum \\alpha_i y_i x_i \\;\\;\\; ; \\sum \\alpha_i y_i = 0   \n",
    "\\end{align} "
   ]
  }
 ],
 "metadata": {
  "kernelspec": {
   "display_name": "Python 3 (ipykernel)",
   "language": "python",
   "name": "python3"
  },
  "language_info": {
   "codemirror_mode": {
    "name": "ipython",
    "version": 3
   },
   "file_extension": ".py",
   "mimetype": "text/x-python",
   "name": "python",
   "nbconvert_exporter": "python",
   "pygments_lexer": "ipython3",
   "version": "3.11.5"
  }
 },
 "nbformat": 4,
 "nbformat_minor": 5
}
