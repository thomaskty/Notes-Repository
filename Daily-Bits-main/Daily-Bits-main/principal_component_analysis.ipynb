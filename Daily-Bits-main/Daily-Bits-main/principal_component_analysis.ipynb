{
 "cells": [
  {
   "cell_type": "markdown",
   "id": "226e72e4",
   "metadata": {},
   "source": [
    "**Definition** The goal of PCA is to transform the original features of a dataset into a new set of uncorrelated variables, called principal components, which capture the maximum variance in the data.\n",
    "\n",
    "**Steps of PCA**\n",
    "- Standardise the data first\n",
    "- Compute the covariance matrix of the dataset\n",
    "- Eigen vectors of the covariance represents the principal components\n",
    "- Principal components are orthogonal to each other\n",
    "- Each principal component is a linear combination of the original features. They are orthogonal to each other, meaning they are uncorrelated. The first principal component captures the most variance, the second captures the second most, and so on.Support Vector Machines\n",
    "- Projecting the original data onto the subspace defined by the chosen principal components\n",
    "\n",
    "**Eigen Vectors**\n",
    "    - Eigenvectors corresponding to distinct eigenvalues are linearly independent.\n",
    "    - The magnitude (absolute value) of an eigenvalue represents the factor by which the corresponding eigenvector is scaled.\n",
    "    - The direction of Eigen vector remains the same after the transformation, only its magnitude (length) changes.\n",
    "    - if Eigen value is positive then Eigen vector is stretched, if lambda is negative, the Eigen vector is compressed.\n",
    "    - The orientation of the eigenvector is preserved, meaning that its direction does not change, even if it is scaled.\n",
    "    \n",
    "**Covariance Matrix**\n",
    "    - diagonal elements represents the variance of each variable\n",
    "    - others are covariances.\n",
    "    - symmetric\n",
    "    - A valid covariance matrix must be positive semidefinite. This ensures that the matrix is symmetric and all its eigenvalues are non-negative."
   ]
  },
  {
   "cell_type": "code",
   "execution_count": null,
   "id": "f0176657",
   "metadata": {},
   "outputs": [],
   "source": []
  }
 ],
 "metadata": {
  "kernelspec": {
   "display_name": "Python 3 (ipykernel)",
   "language": "python",
   "name": "python3"
  },
  "language_info": {
   "codemirror_mode": {
    "name": "ipython",
    "version": 3
   },
   "file_extension": ".py",
   "mimetype": "text/x-python",
   "name": "python",
   "nbconvert_exporter": "python",
   "pygments_lexer": "ipython3",
   "version": "3.11.5"
  }
 },
 "nbformat": 4,
 "nbformat_minor": 5
}
