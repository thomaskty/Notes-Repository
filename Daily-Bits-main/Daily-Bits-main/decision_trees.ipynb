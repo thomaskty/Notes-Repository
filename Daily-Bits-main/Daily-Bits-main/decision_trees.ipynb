{
 "cells": [
  {
   "cell_type": "markdown",
   "id": "29d4407d",
   "metadata": {},
   "source": [
    "## Decision Trees \n",
    "* Introduction\n",
    "* Recursive algorithms \n",
    "* Types of decision trees\n",
    "* splitting criteria\n",
    "* gini& entropy \n",
    "* dealing with overfitting "
   ]
  },
  {
   "cell_type": "code",
   "execution_count": 71,
   "id": "affd5086",
   "metadata": {},
   "outputs": [],
   "source": [
    "def some_func(x):\n",
    "    if x ==[]:\n",
    "        return 0\n",
    "    else:\n",
    "        return 1+some_func(x[1:])"
   ]
  },
  {
   "cell_type": "code",
   "execution_count": 72,
   "id": "d282a1a7",
   "metadata": {},
   "outputs": [
    {
     "data": {
      "text/plain": [
       "4"
      ]
     },
     "execution_count": 72,
     "metadata": {},
     "output_type": "execute_result"
    }
   ],
   "source": [
    "some_func([3,4,2,5])"
   ]
  },
  {
   "cell_type": "code",
   "execution_count": 81,
   "id": "d449773f",
   "metadata": {},
   "outputs": [],
   "source": [
    "def quicksort(array):\n",
    "    if len(array)<2:\n",
    "        return array\n",
    "    else:\n",
    "        pivot = array[0]\n",
    "        smaller, bigger = [],[]\n",
    "        for i in array[1:]:\n",
    "            if i <=pivot:\n",
    "                smaller.append(i)\n",
    "            else:\n",
    "                bigger.append(i)\n",
    "        return quicksort(smaller)+[pivot]+quicksort(bigger)"
   ]
  },
  {
   "cell_type": "code",
   "execution_count": 82,
   "id": "d321c8d0",
   "metadata": {},
   "outputs": [
    {
     "data": {
      "text/plain": [
       "[1, 2, 3, 4, 5, 5, 12, 20, 32, 44, 49, 94]"
      ]
     },
     "execution_count": 82,
     "metadata": {},
     "output_type": "execute_result"
    }
   ],
   "source": [
    "quicksort([5,44,49,3,2,5,4,32,94,1,12,20])"
   ]
  },
  {
   "cell_type": "code",
   "execution_count": null,
   "id": "b2bd9918",
   "metadata": {},
   "outputs": [],
   "source": []
  },
  {
   "cell_type": "code",
   "execution_count": 52,
   "id": "1092946c",
   "metadata": {},
   "outputs": [],
   "source": [
    "# !pip install ucimlrepo\n",
    "import warnings \n",
    "warnings.filterwarnings('ignore')"
   ]
  },
  {
   "cell_type": "code",
   "execution_count": 53,
   "id": "7f3e3fe6",
   "metadata": {
    "scrolled": true
   },
   "outputs": [],
   "source": [
    "from ucimlrepo import fetch_ucirepo \n",
    "wine = fetch_ucirepo(id=109) \n",
    "X = wine.data.features \n",
    "y = wine.data.targets"
   ]
  },
  {
   "cell_type": "code",
   "execution_count": 54,
   "id": "43cd2d1d",
   "metadata": {},
   "outputs": [],
   "source": [
    "import pandas as pd\n",
    "import numpy as np\n",
    "from matplotlib import pyplot as plt\n",
    "from sklearn.model_selection import train_test_split"
   ]
  },
  {
   "cell_type": "code",
   "execution_count": 55,
   "id": "8b034bf5",
   "metadata": {},
   "outputs": [],
   "source": [
    "data = pd.concat([X,y],axis=1)"
   ]
  },
  {
   "cell_type": "code",
   "execution_count": 56,
   "id": "49b4de32",
   "metadata": {},
   "outputs": [
    {
     "data": {
      "text/html": [
       "<div>\n",
       "<style scoped>\n",
       "    .dataframe tbody tr th:only-of-type {\n",
       "        vertical-align: middle;\n",
       "    }\n",
       "\n",
       "    .dataframe tbody tr th {\n",
       "        vertical-align: top;\n",
       "    }\n",
       "\n",
       "    .dataframe thead th {\n",
       "        text-align: right;\n",
       "    }\n",
       "</style>\n",
       "<table border=\"1\" class=\"dataframe\">\n",
       "  <thead>\n",
       "    <tr style=\"text-align: right;\">\n",
       "      <th></th>\n",
       "      <th>Alcohol</th>\n",
       "      <th>Malicacid</th>\n",
       "      <th>Ash</th>\n",
       "      <th>Alcalinity_of_ash</th>\n",
       "      <th>Magnesium</th>\n",
       "      <th>Total_phenols</th>\n",
       "      <th>Flavanoids</th>\n",
       "      <th>Nonflavanoid_phenols</th>\n",
       "      <th>Proanthocyanins</th>\n",
       "      <th>Color_intensity</th>\n",
       "      <th>Hue</th>\n",
       "      <th>0D280_0D315_of_diluted_wines</th>\n",
       "      <th>Proline</th>\n",
       "      <th>class</th>\n",
       "    </tr>\n",
       "  </thead>\n",
       "  <tbody>\n",
       "    <tr>\n",
       "      <th>0</th>\n",
       "      <td>14.23</td>\n",
       "      <td>1.71</td>\n",
       "      <td>2.43</td>\n",
       "      <td>15.6</td>\n",
       "      <td>127</td>\n",
       "      <td>2.80</td>\n",
       "      <td>3.06</td>\n",
       "      <td>0.28</td>\n",
       "      <td>2.29</td>\n",
       "      <td>5.64</td>\n",
       "      <td>1.04</td>\n",
       "      <td>3.92</td>\n",
       "      <td>1065</td>\n",
       "      <td>1</td>\n",
       "    </tr>\n",
       "    <tr>\n",
       "      <th>1</th>\n",
       "      <td>13.20</td>\n",
       "      <td>1.78</td>\n",
       "      <td>2.14</td>\n",
       "      <td>11.2</td>\n",
       "      <td>100</td>\n",
       "      <td>2.65</td>\n",
       "      <td>2.76</td>\n",
       "      <td>0.26</td>\n",
       "      <td>1.28</td>\n",
       "      <td>4.38</td>\n",
       "      <td>1.05</td>\n",
       "      <td>3.40</td>\n",
       "      <td>1050</td>\n",
       "      <td>1</td>\n",
       "    </tr>\n",
       "    <tr>\n",
       "      <th>2</th>\n",
       "      <td>13.16</td>\n",
       "      <td>2.36</td>\n",
       "      <td>2.67</td>\n",
       "      <td>18.6</td>\n",
       "      <td>101</td>\n",
       "      <td>2.80</td>\n",
       "      <td>3.24</td>\n",
       "      <td>0.30</td>\n",
       "      <td>2.81</td>\n",
       "      <td>5.68</td>\n",
       "      <td>1.03</td>\n",
       "      <td>3.17</td>\n",
       "      <td>1185</td>\n",
       "      <td>1</td>\n",
       "    </tr>\n",
       "    <tr>\n",
       "      <th>3</th>\n",
       "      <td>14.37</td>\n",
       "      <td>1.95</td>\n",
       "      <td>2.50</td>\n",
       "      <td>16.8</td>\n",
       "      <td>113</td>\n",
       "      <td>3.85</td>\n",
       "      <td>3.49</td>\n",
       "      <td>0.24</td>\n",
       "      <td>2.18</td>\n",
       "      <td>7.80</td>\n",
       "      <td>0.86</td>\n",
       "      <td>3.45</td>\n",
       "      <td>1480</td>\n",
       "      <td>1</td>\n",
       "    </tr>\n",
       "    <tr>\n",
       "      <th>4</th>\n",
       "      <td>13.24</td>\n",
       "      <td>2.59</td>\n",
       "      <td>2.87</td>\n",
       "      <td>21.0</td>\n",
       "      <td>118</td>\n",
       "      <td>2.80</td>\n",
       "      <td>2.69</td>\n",
       "      <td>0.39</td>\n",
       "      <td>1.82</td>\n",
       "      <td>4.32</td>\n",
       "      <td>1.04</td>\n",
       "      <td>2.93</td>\n",
       "      <td>735</td>\n",
       "      <td>1</td>\n",
       "    </tr>\n",
       "  </tbody>\n",
       "</table>\n",
       "</div>"
      ],
      "text/plain": [
       "   Alcohol  Malicacid   Ash  Alcalinity_of_ash  Magnesium  Total_phenols  \\\n",
       "0    14.23       1.71  2.43               15.6        127           2.80   \n",
       "1    13.20       1.78  2.14               11.2        100           2.65   \n",
       "2    13.16       2.36  2.67               18.6        101           2.80   \n",
       "3    14.37       1.95  2.50               16.8        113           3.85   \n",
       "4    13.24       2.59  2.87               21.0        118           2.80   \n",
       "\n",
       "   Flavanoids  Nonflavanoid_phenols  Proanthocyanins  Color_intensity   Hue  \\\n",
       "0        3.06                  0.28             2.29             5.64  1.04   \n",
       "1        2.76                  0.26             1.28             4.38  1.05   \n",
       "2        3.24                  0.30             2.81             5.68  1.03   \n",
       "3        3.49                  0.24             2.18             7.80  0.86   \n",
       "4        2.69                  0.39             1.82             4.32  1.04   \n",
       "\n",
       "   0D280_0D315_of_diluted_wines  Proline  class  \n",
       "0                          3.92     1065      1  \n",
       "1                          3.40     1050      1  \n",
       "2                          3.17     1185      1  \n",
       "3                          3.45     1480      1  \n",
       "4                          2.93      735      1  "
      ]
     },
     "execution_count": 56,
     "metadata": {},
     "output_type": "execute_result"
    }
   ],
   "source": [
    "data.head()"
   ]
  },
  {
   "cell_type": "code",
   "execution_count": 57,
   "id": "77081b04",
   "metadata": {},
   "outputs": [],
   "source": [
    "x_train,x_test,y_train,y_test =train_test_split(\n",
    "    X, y, \n",
    "    test_size=0.3, \n",
    "    random_state=0, \n",
    "    stratify=y\n",
    ")"
   ]
  },
  {
   "cell_type": "code",
   "execution_count": 58,
   "id": "cc63d3e8",
   "metadata": {},
   "outputs": [
    {
     "data": {
      "text/plain": [
       "class\n",
       "2        50\n",
       "1        41\n",
       "3        33\n",
       "Name: count, dtype: int64"
      ]
     },
     "execution_count": 58,
     "metadata": {},
     "output_type": "execute_result"
    }
   ],
   "source": [
    "y_train.value_counts()"
   ]
  },
  {
   "cell_type": "code",
   "execution_count": 59,
   "id": "13ddda6b",
   "metadata": {},
   "outputs": [],
   "source": [
    "from sklearn.ensemble import RandomForestClassifier\n",
    "forest = RandomForestClassifier(\n",
    "    n_estimators=100,\n",
    "    random_state=1\n",
    ")\n",
    "forest.fit(x_train, y_train)\n",
    "importances = forest.feature_importances_"
   ]
  },
  {
   "cell_type": "code",
   "execution_count": 60,
   "id": "83b8d5be",
   "metadata": {},
   "outputs": [
    {
     "data": {
      "text/plain": [
       "array([0.121041  , 0.01989148, 0.0125775 , 0.02049517, 0.03715273,\n",
       "       0.04003254, 0.19382217, 0.00921146, 0.02642531, 0.12517892,\n",
       "       0.07030285, 0.12356175, 0.20030712])"
      ]
     },
     "execution_count": 60,
     "metadata": {},
     "output_type": "execute_result"
    }
   ],
   "source": [
    "importances"
   ]
  },
  {
   "cell_type": "code",
   "execution_count": 62,
   "id": "63d9cfca",
   "metadata": {},
   "outputs": [
    {
     "data": {
      "image/png": "[encoded data removed]",
      "text/plain": [
       "<Figure size 640x480 with 1 Axes>"
      ]
     },
     "metadata": {},
     "output_type": "display_data"
    }
   ],
   "source": [
    "indices = np.argsort(importances)[::-1]\n",
    "plt.barh(x_train.columns[indices][::-1],importances[indices][::-1])\n",
    "plt.show()"
   ]
  },
  {
   "cell_type": "code",
   "execution_count": 66,
   "id": "5a96fc2e",
   "metadata": {},
   "outputs": [
    {
     "data": {
      "text/html": [
       "<div>\n",
       "<style scoped>\n",
       "    .dataframe tbody tr th:only-of-type {\n",
       "        vertical-align: middle;\n",
       "    }\n",
       "\n",
       "    .dataframe tbody tr th {\n",
       "        vertical-align: top;\n",
       "    }\n",
       "\n",
       "    .dataframe thead th {\n",
       "        text-align: right;\n",
       "    }\n",
       "</style>\n",
       "<table border=\"1\" class=\"dataframe\">\n",
       "  <thead>\n",
       "    <tr style=\"text-align: right;\">\n",
       "      <th></th>\n",
       "      <th>predictor</th>\n",
       "      <th>score</th>\n",
       "    </tr>\n",
       "  </thead>\n",
       "  <tbody>\n",
       "    <tr>\n",
       "      <th>12</th>\n",
       "      <td>Proline</td>\n",
       "      <td>0.200307</td>\n",
       "    </tr>\n",
       "    <tr>\n",
       "      <th>11</th>\n",
       "      <td>Flavanoids</td>\n",
       "      <td>0.193822</td>\n",
       "    </tr>\n",
       "    <tr>\n",
       "      <th>10</th>\n",
       "      <td>Color_intensity</td>\n",
       "      <td>0.125179</td>\n",
       "    </tr>\n",
       "    <tr>\n",
       "      <th>9</th>\n",
       "      <td>0D280_0D315_of_diluted_wines</td>\n",
       "      <td>0.123562</td>\n",
       "    </tr>\n",
       "    <tr>\n",
       "      <th>8</th>\n",
       "      <td>Alcohol</td>\n",
       "      <td>0.121041</td>\n",
       "    </tr>\n",
       "    <tr>\n",
       "      <th>7</th>\n",
       "      <td>Hue</td>\n",
       "      <td>0.070303</td>\n",
       "    </tr>\n",
       "    <tr>\n",
       "      <th>6</th>\n",
       "      <td>Total_phenols</td>\n",
       "      <td>0.040033</td>\n",
       "    </tr>\n",
       "    <tr>\n",
       "      <th>5</th>\n",
       "      <td>Magnesium</td>\n",
       "      <td>0.037153</td>\n",
       "    </tr>\n",
       "    <tr>\n",
       "      <th>4</th>\n",
       "      <td>Proanthocyanins</td>\n",
       "      <td>0.026425</td>\n",
       "    </tr>\n",
       "    <tr>\n",
       "      <th>3</th>\n",
       "      <td>Alcalinity_of_ash</td>\n",
       "      <td>0.020495</td>\n",
       "    </tr>\n",
       "    <tr>\n",
       "      <th>2</th>\n",
       "      <td>Malicacid</td>\n",
       "      <td>0.019891</td>\n",
       "    </tr>\n",
       "    <tr>\n",
       "      <th>1</th>\n",
       "      <td>Ash</td>\n",
       "      <td>0.012578</td>\n",
       "    </tr>\n",
       "    <tr>\n",
       "      <th>0</th>\n",
       "      <td>Nonflavanoid_phenols</td>\n",
       "      <td>0.009211</td>\n",
       "    </tr>\n",
       "  </tbody>\n",
       "</table>\n",
       "</div>"
      ],
      "text/plain": [
       "                       predictor     score\n",
       "12                       Proline  0.200307\n",
       "11                    Flavanoids  0.193822\n",
       "10               Color_intensity  0.125179\n",
       "9   0D280_0D315_of_diluted_wines  0.123562\n",
       "8                        Alcohol  0.121041\n",
       "7                            Hue  0.070303\n",
       "6                  Total_phenols  0.040033\n",
       "5                      Magnesium  0.037153\n",
       "4                Proanthocyanins  0.026425\n",
       "3              Alcalinity_of_ash  0.020495\n",
       "2                      Malicacid  0.019891\n",
       "1                            Ash  0.012578\n",
       "0           Nonflavanoid_phenols  0.009211"
      ]
     },
     "metadata": {},
     "output_type": "display_data"
    }
   ],
   "source": [
    "feature_importance = pd.DataFrame({\n",
    "    'predictor':x_train.columns[indices][::-1],\n",
    "    'score':importances[indices][::-1]\n",
    "}).sort_values('score',ascending = False)\n",
    "display(feature_importance)"
   ]
  },
  {
   "cell_type": "code",
   "execution_count": 67,
   "id": "f7fbfa15",
   "metadata": {
    "scrolled": true
   },
   "outputs": [
    {
     "data": {
      "text/plain": [
       "[DecisionTreeClassifier(max_features='sqrt', random_state=1791095845),\n",
       " DecisionTreeClassifier(max_features='sqrt', random_state=2135392491),\n",
       " DecisionTreeClassifier(max_features='sqrt', random_state=946286476),\n",
       " DecisionTreeClassifier(max_features='sqrt', random_state=1857819720),\n",
       " DecisionTreeClassifier(max_features='sqrt', random_state=491263),\n",
       " DecisionTreeClassifier(max_features='sqrt', random_state=550290313),\n",
       " DecisionTreeClassifier(max_features='sqrt', random_state=1298508491),\n",
       " DecisionTreeClassifier(max_features='sqrt', random_state=2143362693),\n",
       " DecisionTreeClassifier(max_features='sqrt', random_state=630311759),\n",
       " DecisionTreeClassifier(max_features='sqrt', random_state=1013994432),\n",
       " DecisionTreeClassifier(max_features='sqrt', random_state=396591248),\n",
       " DecisionTreeClassifier(max_features='sqrt', random_state=1703301249),\n",
       " DecisionTreeClassifier(max_features='sqrt', random_state=799981516),\n",
       " DecisionTreeClassifier(max_features='sqrt', random_state=1666063943),\n",
       " DecisionTreeClassifier(max_features='sqrt', random_state=1484172013),\n",
       " DecisionTreeClassifier(max_features='sqrt', random_state=729053692),\n",
       " DecisionTreeClassifier(max_features='sqrt', random_state=1704103302),\n",
       " DecisionTreeClassifier(max_features='sqrt', random_state=1870626073),\n",
       " DecisionTreeClassifier(max_features='sqrt', random_state=166716594),\n",
       " DecisionTreeClassifier(max_features='sqrt', random_state=1487394068),\n",
       " DecisionTreeClassifier(max_features='sqrt', random_state=1800426750),\n",
       " DecisionTreeClassifier(max_features='sqrt', random_state=1345499493),\n",
       " DecisionTreeClassifier(max_features='sqrt', random_state=795511698),\n",
       " DecisionTreeClassifier(max_features='sqrt', random_state=105433556),\n",
       " DecisionTreeClassifier(max_features='sqrt', random_state=878115723),\n",
       " DecisionTreeClassifier(max_features='sqrt', random_state=1904615676),\n",
       " DecisionTreeClassifier(max_features='sqrt', random_state=1624002026),\n",
       " DecisionTreeClassifier(max_features='sqrt', random_state=986026652),\n",
       " DecisionTreeClassifier(max_features='sqrt', random_state=117628829),\n",
       " DecisionTreeClassifier(max_features='sqrt', random_state=147806606),\n",
       " DecisionTreeClassifier(max_features='sqrt', random_state=732152370),\n",
       " DecisionTreeClassifier(max_features='sqrt', random_state=1777953348),\n",
       " DecisionTreeClassifier(max_features='sqrt', random_state=1792310487),\n",
       " DecisionTreeClassifier(max_features='sqrt', random_state=1963679703),\n",
       " DecisionTreeClassifier(max_features='sqrt', random_state=252070889),\n",
       " DecisionTreeClassifier(max_features='sqrt', random_state=1849836273),\n",
       " DecisionTreeClassifier(max_features='sqrt', random_state=602957303),\n",
       " DecisionTreeClassifier(max_features='sqrt', random_state=1886039518),\n",
       " DecisionTreeClassifier(max_features='sqrt', random_state=850839392),\n",
       " DecisionTreeClassifier(max_features='sqrt', random_state=1195672662),\n",
       " DecisionTreeClassifier(max_features='sqrt', random_state=1291688077),\n",
       " DecisionTreeClassifier(max_features='sqrt', random_state=927586281),\n",
       " DecisionTreeClassifier(max_features='sqrt', random_state=2011168137),\n",
       " DecisionTreeClassifier(max_features='sqrt', random_state=1300333575),\n",
       " DecisionTreeClassifier(max_features='sqrt', random_state=1346146623),\n",
       " DecisionTreeClassifier(max_features='sqrt', random_state=398576445),\n",
       " DecisionTreeClassifier(max_features='sqrt', random_state=826019350),\n",
       " DecisionTreeClassifier(max_features='sqrt', random_state=77964601),\n",
       " DecisionTreeClassifier(max_features='sqrt', random_state=1616579073),\n",
       " DecisionTreeClassifier(max_features='sqrt', random_state=1567750016),\n",
       " DecisionTreeClassifier(max_features='sqrt', random_state=1694822716),\n",
       " DecisionTreeClassifier(max_features='sqrt', random_state=1413675217),\n",
       " DecisionTreeClassifier(max_features='sqrt', random_state=365262088),\n",
       " DecisionTreeClassifier(max_features='sqrt', random_state=1415635672),\n",
       " DecisionTreeClassifier(max_features='sqrt', random_state=167739021),\n",
       " DecisionTreeClassifier(max_features='sqrt', random_state=1172740723),\n",
       " DecisionTreeClassifier(max_features='sqrt', random_state=729416111),\n",
       " DecisionTreeClassifier(max_features='sqrt', random_state=254447594),\n",
       " DecisionTreeClassifier(max_features='sqrt', random_state=1624109689),\n",
       " DecisionTreeClassifier(max_features='sqrt', random_state=732412360),\n",
       " DecisionTreeClassifier(max_features='sqrt', random_state=422396446),\n",
       " DecisionTreeClassifier(max_features='sqrt', random_state=399713351),\n",
       " DecisionTreeClassifier(max_features='sqrt', random_state=1808643459),\n",
       " DecisionTreeClassifier(max_features='sqrt', random_state=737248710),\n",
       " DecisionTreeClassifier(max_features='sqrt', random_state=1966620565),\n",
       " DecisionTreeClassifier(max_features='sqrt', random_state=1768615473),\n",
       " DecisionTreeClassifier(max_features='sqrt', random_state=142443833),\n",
       " DecisionTreeClassifier(max_features='sqrt', random_state=848474627),\n",
       " DecisionTreeClassifier(max_features='sqrt', random_state=824105924),\n",
       " DecisionTreeClassifier(max_features='sqrt', random_state=1243949848),\n",
       " DecisionTreeClassifier(max_features='sqrt', random_state=1355129329),\n",
       " DecisionTreeClassifier(max_features='sqrt', random_state=610401323),\n",
       " DecisionTreeClassifier(max_features='sqrt', random_state=801015372),\n",
       " DecisionTreeClassifier(max_features='sqrt', random_state=1216826394),\n",
       " DecisionTreeClassifier(max_features='sqrt', random_state=1437206324),\n",
       " DecisionTreeClassifier(max_features='sqrt', random_state=1771840848),\n",
       " DecisionTreeClassifier(max_features='sqrt', random_state=78547565),\n",
       " DecisionTreeClassifier(max_features='sqrt', random_state=146764659),\n",
       " DecisionTreeClassifier(max_features='sqrt', random_state=1074361641),\n",
       " DecisionTreeClassifier(max_features='sqrt', random_state=532704722),\n",
       " DecisionTreeClassifier(max_features='sqrt', random_state=2099642383),\n",
       " DecisionTreeClassifier(max_features='sqrt', random_state=689925184),\n",
       " DecisionTreeClassifier(max_features='sqrt', random_state=1065863364),\n",
       " DecisionTreeClassifier(max_features='sqrt', random_state=1282027545),\n",
       " DecisionTreeClassifier(max_features='sqrt', random_state=1204497775),\n",
       " DecisionTreeClassifier(max_features='sqrt', random_state=1916133090),\n",
       " DecisionTreeClassifier(max_features='sqrt', random_state=1242445271),\n",
       " DecisionTreeClassifier(max_features='sqrt', random_state=954017671),\n",
       " DecisionTreeClassifier(max_features='sqrt', random_state=443352346),\n",
       " DecisionTreeClassifier(max_features='sqrt', random_state=315096729),\n",
       " DecisionTreeClassifier(max_features='sqrt', random_state=1923688040),\n",
       " DecisionTreeClassifier(max_features='sqrt', random_state=2015364118),\n",
       " DecisionTreeClassifier(max_features='sqrt', random_state=1754904329),\n",
       " DecisionTreeClassifier(max_features='sqrt', random_state=413056707),\n",
       " DecisionTreeClassifier(max_features='sqrt', random_state=1261063143),\n",
       " DecisionTreeClassifier(max_features='sqrt', random_state=1732461694),\n",
       " DecisionTreeClassifier(max_features='sqrt', random_state=1235985687),\n",
       " DecisionTreeClassifier(max_features='sqrt', random_state=513207677),\n",
       " DecisionTreeClassifier(max_features='sqrt', random_state=558468452),\n",
       " DecisionTreeClassifier(max_features='sqrt', random_state=106512539)]"
      ]
     },
     "execution_count": 67,
     "metadata": {},
     "output_type": "execute_result"
    }
   ],
   "source": [
    "forest.estimators_"
   ]
  },
  {
   "cell_type": "markdown",
   "id": "1b83ef12",
   "metadata": {},
   "source": [
    "All these decision trees are different from each other. In random forest, there are two random aspects, \n",
    "* boostrap sample\n",
    "* random subset of features"
   ]
  },
  {
   "cell_type": "markdown",
   "id": "f01e52d4",
   "metadata": {},
   "source": [
    "## <font color=red> Model Parameters"
   ]
  },
  {
   "cell_type": "markdown",
   "id": "2599dd1a",
   "metadata": {},
   "source": [
    "**n_estimators** : default is 100 : The number of trees in the forest\n",
    "\n",
    "**criterion**: gini, entropy, log_loss : default gini\n",
    "\n",
    "**max_depth** :(int) maximum depth of the tree. if None, then the nodes are expanded until all leaves are pure or until all leaves contain less than min_samples_split samples. \n",
    "\n",
    "**min_samples_split**(int or float):default is 2; The minimum number of samples required to split an internal node \n",
    "* If int, then consider min_samples_split as the minimum number \n",
    "* if float, the min_samples_split is a fraction: \n",
    "    *ceil(min_samples_split* n_samples)\n",
    "    \n",
    "**min_samples_leaf**: int or float ; default is 1\n",
    "* The minimum number of samples required to be at a leaf node. A split point at any depth will only be considered if it leaves at least min_samples_leaf training samples in each of the left and right branches. This may have the effect of smoothing the model, especially in regression.\n",
    "\n",
    "**min_weight_fraction_leaf** : float, default 0 \n",
    "* The minimum weighted fraction of the sum total of weights(of all input samples) required to be at a leaf node. Samples have equal weight when sample_weight is not provided. \n",
    "\n",
    "**max_features{“sqrt”, “log2”, None}, int or float, default=”sqrt”\n",
    "The number of features to consider when looking for the best split:**\n",
    "* If int, then consider max_features features at each split.\n",
    "* If float, then max_features is a fraction and max(1, int(max_features * n_features_in_)) features are considered at each split.\n",
    "* If “sqrt”, then max_features=sqrt(n_features).\n",
    "* If “log2”, then max_features=log2(n_features).\n",
    "* If None, then max_features=n_features.\n",
    "\n",
    "**max_leaf_nodes** : int default is None\n",
    "\n",
    "**min_impurity_decrease** : float , default is 0.0 \n",
    "* A node will be split if this split induces a decreases of the impurity greater than or equal to this value. \n",
    "\n",
    "**bootstrap** :Whether bootstrap samples are used when building trees. IF False, the whole dataset is used to build each tree. \n",
    "\n",
    "**oob_score** : bool or callable, default = False\n",
    "* Whether to use out-of-bag samples to estimate the generalization score. By default accuracy_score is used. Provide a callable with signature metric(y_true,y_pred) to use a custom metric. Only available if bootstrap =True\n",
    "\n",
    "**n_jobs**\n",
    "\n",
    "**random_state**\n",
    "\n",
    "**verbose**\n",
    "\n",
    "**warm_start** bool ; default is False: When set to True, reuse the solution of the previous call to fit and add more estimators to the ensemble, otherwise, just fit a whole new forest.\n",
    "\n",
    "**class_weight**: balanced,balanced_subsample,dict,list_of_dicts\n",
    "\n",
    "**ccp_alpha**: non-negative float , default 0.0\n",
    "* complexity parameter used for minimal cost-complexity pruning. The subtree with the largest const complexity that is smaller than ccp_alpha will be chosen.\n",
    "\n",
    "**max_samples** int or float, default=None\n",
    "* If bootstrap is True, the number of samples to draw from X to train each base estimator.\n",
    "* If None (default), then draw X.shape[0] samples.\n",
    "* f int, then draw max_samples samples.\n",
    "* If float, then draw max(round(n_samples * max_samples), 1) samples. Thus, max_samples should be in the interval (0.0, 1.0]."
   ]
  },
  {
   "cell_type": "markdown",
   "id": "0b68516d",
   "metadata": {},
   "source": [
    "Note : **(Difference between min_samples_split & min_samples_leaf)**\n",
    "If min_samples_split = 5, and there are 7 samples at an internal node, then the split is allowed. But let's say the split results in two leaves, one with 1 sample, and another with 6 samples. If min_samples_leaf = 2, then the split won't be allowed (even if the internal node has 7 samples) because one of the leaves resulted will have less then the minimum number of samples required to be at a leaf node."
   ]
  },
  {
   "cell_type": "markdown",
   "id": "a80e22a1",
   "metadata": {},
   "source": [
    "### <font color=red> Random Forest Feature Importance\n",
    "* Method A :`Impurity -based feature importance`\n",
    "    * For a given feature \n",
    "        * For each tree:\n",
    "            * Compute impurity decrease (Gini, Entropy) \n",
    "            * Weight by number of examples at that node \n",
    "            * Average all all trees\n",
    "        * Normalize importances so that sum of feature importances sum to 1 \n",
    "    * Note : Impurity-based feature importance are inflated for categorical features with lots of unique values. \n",
    "    * Note : Correlated features share importance.\n",
    "    \n",
    "* Method B : `Permutation Importance`\n",
    "    * Bootrap Sampling (Sampling with replacement)\n",
    "    * Out-of-bag accuracy: \n",
    "        * During training , for each tree, make prediction for OOB sample (~1/3 of the training data) \n",
    "        * Based on those predictions where example i was OOB, compute label via majority vote among the trees that did not use example i during model fitting.\n",
    "        * The proportion over all examples were the prediction (by majorith vote) is correct is the OOB accuracy estimate. \n",
    "    * Out-of-bag feature importance via permutation \n",
    "        * Count votes for correct class \n",
    "        * Given feature i, permute this feature in OOB examples of a tree. \n",
    "        * Compute the number of correct votes after permutation from the number of votes before permutation for given tree. \n",
    "        * Repeat for all trees in the random forest and average the importance \n",
    "        * Repeat for other features\n"
   ]
  },
  {
   "cell_type": "markdown",
   "id": "3cd92aea",
   "metadata": {},
   "source": [
    "## <font color='red'> Pruning a tree "
   ]
  },
  {
   "cell_type": "markdown",
   "id": "a0393cd3",
   "metadata": {},
   "source": [
    "* A smaller tree with fewer splits may lead to lower variance and better interpretation at the cost of higher bias \n",
    "* A better strategy is to grow a very large tree, this may produce good predictions on the training set, but is likely to overfit the data, leading to poor test set performance. \n",
    "\n",
    "* Cost Complexity pruning - Post Pruning.\n"
   ]
  },
  {
   "cell_type": "code",
   "execution_count": null,
   "id": "657a7cad",
   "metadata": {},
   "outputs": [],
   "source": []
  },
  {
   "cell_type": "markdown",
   "id": "fb7608f6",
   "metadata": {},
   "source": [
    " # Decision Trees "
   ]
  },
  {
   "cell_type": "markdown",
   "id": "aeffbd9d",
   "metadata": {},
   "source": [
    " * It is a binary tree that recursively splits the datset until we are left with pure leaf nodes, that is the data with only one type of class. \n",
    " *  Decision Trees are a non-parametric supervised learning method used for both classification and regression tasks. The goal is to create a model that predicts the value of a target variable by learning simple decision rules inferred from the data features.\n",
    " * It is true that the tree is just a bunch of if else statement, But there exist many such trees to split the given data, so we have to find the optimal one.Thats why we this is considered as a machine learning algorithm.\n",
    " * Model will choose the split which maximises the information gain. \n",
    " * Entropy is the measure of information contained in a state.If entropy is high, then we are very uncertain about the randomly picked point and we need more bits to descrive the statse.\n",
    " * Pure node is the node where entropy is minimum \n",
    " \n",
    " To decide which attribute should be at the root node we can start by splitting the dataset wrt each feature and compute the gini impurity score. Consider the following splits based on three features.  "
   ]
  },
  {
   "cell_type": "markdown",
   "id": "e5c936c5",
   "metadata": {},
   "source": [
    " <img src='https://miro.medium.com/max/980/1*S4byQQs8X2rNhJv4qm73uw.png'>\n",
    " <img src = 'https://miro.medium.com/max/980/1*j7WkOMGSLd17P_wlO_cRhw.png'> "
   ]
  },
  {
   "cell_type": "markdown",
   "id": "1243a9f6",
   "metadata": {},
   "source": [
    "### Gini Impurity \n",
    "The Gini impurity is a measurement of the likelihood of incorrect classification of a new instance of a random variable, if that new instance were randomly classified according to the distribution of class labels from the data set. The lower the Gini score the better.\n",
    "<img src = 'https://miro.medium.com/max/445/1*y78T1YV8wrb-DPbmNk2rKA.png'> "
   ]
  },
  {
   "cell_type": "markdown",
   "id": "dd28b892",
   "metadata": {},
   "source": [
    "<img src='https://miro.medium.com/max/980/1*3SMk52FU2a3TrDysEu7dkQ.png'> "
   ]
  },
  {
   "cell_type": "markdown",
   "id": "1b6e69c6",
   "metadata": {},
   "source": [
    "Suppose “Fever” has the lowest Gini impurity with a score of 0.386. In other words, “Fever” separates patients with and without flu the best."
   ]
  },
  {
   "cell_type": "markdown",
   "id": "5596b556",
   "metadata": {},
   "source": [
    "<img src = 'https://miro.medium.com/max/850/1*uvngcDnw_vla-jWnFyyIJg.png'> "
   ]
  },
  {
   "cell_type": "markdown",
   "id": "6b4c2515",
   "metadata": {},
   "source": [
    "We can apply this process to the right node as well. If the node itself has the lowest score then there is no point in separating the patients anymore and the node becomes the leaf node. This method is applied down the tree until we are only left with leaf nodes."
   ]
  },
  {
   "cell_type": "markdown",
   "id": "d8545add",
   "metadata": {},
   "source": [
    "## Decision Tree with Numeric Values\n",
    "What if the “Yes”/”No” answers in “Fever” were replaced with actual temperature readings ? How would we compile the tree then? Don’t panic, the process very similar to before. First we sort the values of the attribute in ascending order (smallest to largest). Then we compute the average for all adjacent patients. For example, if the first two values were 10 and 20, we’d get the average of those two values (average = (10+20)/2 = 15) and insert the value in between 10 and 20.\n",
    "<img src = 'https://miro.medium.com/max/904/1*EWeBpqTq7_XhqvnSJwsMjg.png'>\n",
    "Once we have inserted all the averages, we can use the averages to create a tree with a root node and two leaf nodes. In the picture above we have selected the value 37.5 (average of 37 and 38) and used it as the attribute in the root node. It asks the question: which patients have a fever less than 37.5 degrees celsius? If the answer is Yes (True) then it goes into the left node, otherwise it goes into the right node. Can you see that we follow the same notion as before. After fulfilling our node we must calculate the Gini impurity score for the node (with “Fever < 37.5” as the attribute). To obtain the Gini score we do the same as before: calculate Gini scores for the leaf nodes and then using weighted average methods we get the Gini impurtiy score for the root node.\n",
    "This process is done for all averages. The average which returns the lowest Gini impurity score is selected to be the cut-off value in the root node or parent node."
   ]
  },
  {
   "cell_type": "markdown",
   "id": "de0f2e3d",
   "metadata": {},
   "source": [
    "## Notes: \n",
    " * decision tree contains two nodes decision nodes and leaf nodes. Decision nodes contain condition and the condition is defined by feature index and the threshold value for that particular feature. \n",
    " * The model tranverses through every feature and feature value for finding the best splitting condition which maximises the  information gain. "
   ]
  },
  {
   "cell_type": "markdown",
   "id": "74568455",
   "metadata": {},
   "source": [
    "## Entropy \n",
    "Entropy is a measure of information that indicates the disorder of the features with the target\n",
    "\n",
    "<img src=\"https://encrypted-tbn0.gstatic.com/images?q=tbn:ANd9GcR9d1OavwqcVz7tyymnWsnFHXRbOoKZunUumy4O3ziO_n7PReea87ixH400xaSC5RWzXQ&usqp=CAU\"> "
   ]
  },
  {
   "cell_type": "markdown",
   "id": "ea0a44f8",
   "metadata": {},
   "source": [
    "## Information gain\n",
    "The difference between entropy before and after splitting\n",
    "<img src='https://qph.fs.quoracdn.net/main-qimg-dfad11c548327127fadd25ff992ace92'>"
   ]
  },
  {
   "cell_type": "markdown",
   "id": "adde76a3",
   "metadata": {},
   "source": [
    "## Decision Tree Regressor "
   ]
  },
  {
   "cell_type": "markdown",
   "id": "de20195f",
   "metadata": {},
   "source": [
    "The algorithm follows almost same process the difference lies in how we measure the information gain and how we make the prediction. Suppose our new data point reaches a particular leaf node. To make the prediction for regression problem we take the average value of y values in the node. \n",
    "\n",
    "To find the best split and threshold in decision tree regressor we use variance as a measure of impurity.(Just like entropy or gini index in the classification problem)\n",
    "\n",
    "$VarReduction  = Var(parent) - \\sum{w_i}* Var(child)$"
   ]
  },
  {
   "cell_type": "markdown",
   "id": "dcacc069",
   "metadata": {},
   "source": [
    "#### Note : Decision Tree Split for numerical variables \n",
    " * First we sort the feature then we go through all the unique feature values and compute the information gain.\n",
    " * decision tree takes a lot of time to train if we have numerical feature. \n",
    " * time complexity will be increasing as the input is increasing. \n",
    " * decision trees are the base of many ensemble tenchiques \n",
    " * Decision Trees are robust to outliers because decision trees divide items by lines, so it does not difference how far is a point from lines.Most likely outliers will have a negligible effect because the nodes are determined based on the sample proportions in each split region (and not on their absolute values)."
   ]
  },
  {
   "cell_type": "markdown",
   "id": "03c7e3e6",
   "metadata": {},
   "source": [
    "### Decision tree pruning \n",
    "As the names suggest, pre-pruning or early stopping involves stopping the tree before it has completed classifying the training set and post-pruning refers to pruning the tree after it has finished.\n",
    " * full depth decision tree leads to overfitting. Full depth tree can learn the training data exactly. But the new data point that differs very slightly might not be predicted well.\n",
    " \n",
    " * "
   ]
  },
  {
   "cell_type": "markdown",
   "id": "c8a862f6",
   "metadata": {},
   "source": [
    "## Practise Questions \n",
    "\n",
    " * How does decision tree works(entropy, inf gain, how to construct the tree, gini impurity) \n",
    " * Understand the formula \n",
    " * how to construct the tree with respect to categorical and numberical features \n",
    " * What is the impact of outliers in decision tree \n",
    " * Decision tree has low bias and high variance \n",
    " * what is low bias and high variance. \n",
    " * generalization error \n",
    " * bias variance trade off \n",
    " * full depth decision tree --> getting high variance \n",
    " * how to convert high variance to low variance \n",
    " * decision tree pruning \n",
    " * How to perform pruning \n",
    " * which all libraries you will use \n",
    " * visualizaiton stuffs \n",
    " * How decision tree regressor works "
   ]
  },
  {
   "cell_type": "code",
   "execution_count": null,
   "id": "315bbae4",
   "metadata": {},
   "outputs": [],
   "source": []
  }
 ],
 "metadata": {
  "kernelspec": {
   "display_name": "Python 3 (ipykernel)",
   "language": "python",
   "name": "python3"
  },
  "language_info": {
   "codemirror_mode": {
    "name": "ipython",
    "version": 3
   },
   "file_extension": ".py",
   "mimetype": "text/x-python",
   "name": "python",
   "nbconvert_exporter": "python",
   "pygments_lexer": "ipython3",
   "version": "3.11.5"
  }
 },
 "nbformat": 4,
 "nbformat_minor": 5
}
