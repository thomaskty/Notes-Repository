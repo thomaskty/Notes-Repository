{
 "cells": [
  {
   "cell_type": "code",
   "execution_count": null,
   "id": "526fbf32",
   "metadata": {},
   "outputs": [],
   "source": []
  },
  {
   "cell_type": "markdown",
   "id": "f84b702d",
   "metadata": {},
   "source": [
    "# Encoder Decoder/with and without attention Architecture\n",
    "![image](../images/encoder_decoder.svg)\n",
    "- Encoder encodes the sequence into a context vector(a new representation)\n",
    "- Decoder takes the context vector into output sequence\n",
    "- Encode all - decode one at a time; encoder reads all the input sequence and create a context vector. Decoder use this context vector and previously decoded result to create new output step by step\n",
    "- Teacher forcing : During training decoder receives the correct output from the training set as the previously decoded result to predict the next output. However,during inference decoder receives the previously decoded result to predict the next output. Teacher forcing improves training process.\n",
    "- we can increase the context vector dimension in two ways ;\n",
    "    - increase the number of hidden units in lstm cell\n",
    "    - increase the lstm no of layers\n",
    "- Decoder will work in such a **loop** using its states and output as the next step context vector and input **until**:\n",
    "    - the generated output is a special symbol (e.g. '***STOP***' or '***END***') or\n",
    "    - the ***pre-defined maximum steps*** (length of output) is reached.\n",
    "- ***decoder_inputs*** we will provide '***START’*** token as the ***initial input***\n",
    "- Encoder receives `encoder input data` and converts it to a context vector.\n",
    "- Decoder runs in a loop:\n",
    "    - Decoder is initialized with context vector and recives `decoder input data`\n",
    "    - Decoder converts `decoder input data` to one time step output\n",
    "    - Decoder also outputs its hidden states and cell states as context vector\n",
    "    - in the next cycle of the loop, decoder use its states and output as the input for itself (the context vector and the input)\n",
    "\n",
    "## Adding attention mechanism \n",
    "- To improve the enocder-decoder model, attention mechasnism is added. \n",
    "- attention mechanism allows us to create dynamic context vectors rather than using a fixed context vector. \n",
    "- Dyanimc context vector is created by taking a weighted aggregation of all the encoder states. \n",
    "- weights are calculated using another neural network. \n",
    "Following digram shows how we compute the dynamic context vector; \n",
    "\n",
    "![image](../images/encoder_decoder_attention.png)\n",
    "\n",
    "\n",
    "### Resouces Used \n",
    "* https://lena-voita.github.io/nlp_course/seq2seq_and_attention.html"
   ]
  }
 ],
 "metadata": {
  "kernelspec": {
   "display_name": "Python 3 (ipykernel)",
   "language": "python",
   "name": "python3"
  },
  "language_info": {
   "codemirror_mode": {
    "name": "ipython",
    "version": 3
   },
   "file_extension": ".py",
   "mimetype": "text/x-python",
   "name": "python",
   "nbconvert_exporter": "python",
   "pygments_lexer": "ipython3",
   "version": "3.7.13"
  }
 },
 "nbformat": 4,
 "nbformat_minor": 5
}
