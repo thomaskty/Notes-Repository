{
 "cells": [
  {
   "cell_type": "markdown",
   "id": "c8b4d150",
   "metadata": {},
   "source": [
    "### Customer Segmentation \n",
    "Customer segmentation is a way to split customers into groups based on certain characteristics that those customers share. \n",
    "\n",
    "#### Basic Information used in segmenation \n",
    "* Geography (billing info, shipping info (if applicable), browser info)\n",
    "* Product(s)/Service(s) purchased\n",
    "* How customers found you (referring URL and/or campaign info, promo codes)\n",
    "* Device used (device type, brand (if mobile), browser)\n",
    "* If this is a customer’s first purchase\n",
    "* Payment method\n",
    "\n",
    "#### Extra Information \n",
    "* Reason for purchase\n",
    "* Marketing or advertising channel that drove purchase*\n",
    "* Intended use: business, personal, self-consumption, gift, etc.\n",
    "* Company industry segment\n",
    "* Job title\n",
    "* Age/Gender"
   ]
  },
  {
   "cell_type": "markdown",
   "id": "ab73ba3b",
   "metadata": {},
   "source": [
    "### Types of Customer Segmentation Models\n",
    "\n",
    "* Demographic \n",
    "* Recency,frequency,monetary(RFM): Segment customers based on the recency of their last purchase,the total number of purchases they have made(frequency) and the maount they have spent(monetary). This is often used to identity High-Value Customers(HVCs).\n",
    "\n",
    "* High-value customer: Based on an RFM segmentation, any business, regardless of sector or industry, will want to know more about where HVCs come from and what characteristics they share so you can acquire more of them\n",
    "\n",
    "* Typical non-luxury products consider active customers to be those who have purchased within the most recent 12 months. Lapsed customers would those who have not made a purchase in the last 12 months. \n",
    "\n",
    "* Behavioral : Past observed behaviors can be indicative of future actions, such as purchasing for certain occasions or events, purchasing from certain brands, or significant life events like moving, getting married, or having a baby. It’s also important to consider the reasons a customer purchases your product/service and how those reasons could change throughout the year(s) as their needs change.\n",
    "\n",
    "* Psychographic\n"
   ]
  },
  {
   "cell_type": "markdown",
   "id": "e93873a4",
   "metadata": {},
   "source": [
    "### Benefits of Customer Segmentation\n",
    "There are several benefits of implementing customer segmentation including informing marketing strategy, promotional strategy, product development, budget management, and delivering relevant content to your customers or prospective customers. \n",
    "\n",
    "* marketing strategy(what kind of message,channel selection) \n",
    "* promotional strategy(segment specific promotions) \n",
    "* Budget efficiency ( where to spend more) \n",
    "* Product Development ( what is important to the customer) \n",
    "* Providing Revelant content. "
   ]
  },
  {
   "cell_type": "markdown",
   "id": "f6e651df",
   "metadata": {},
   "source": [
    "### Cross-Selling and upselling \n",
    "Upselling is the practice of encouraging customers to purchase a comparable higher-end product than the one in question, while cross-selling invites customers to buy related or complementary items."
   ]
  },
  {
   "cell_type": "code",
   "execution_count": null,
   "id": "5b134fce",
   "metadata": {},
   "outputs": [],
   "source": []
  }
 ],
 "metadata": {
  "kernelspec": {
   "display_name": "Python 3 (ipykernel)",
   "language": "python",
   "name": "python3"
  },
  "language_info": {
   "codemirror_mode": {
    "name": "ipython",
    "version": 3
   },
   "file_extension": ".py",
   "mimetype": "text/x-python",
   "name": "python",
   "nbconvert_exporter": "python",
   "pygments_lexer": "ipython3",
   "version": "3.11.5"
  }
 },
 "nbformat": 4,
 "nbformat_minor": 5
}
