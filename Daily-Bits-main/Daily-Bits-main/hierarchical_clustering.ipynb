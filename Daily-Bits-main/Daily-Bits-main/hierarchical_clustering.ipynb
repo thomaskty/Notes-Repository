{
 "cells": [
  {
   "cell_type": "markdown",
   "id": "7fdaba5b",
   "metadata": {},
   "source": [
    "**`Hierarchical clustering` is a general family of clustering algorithms that build nested clusters by merging or splitting them successively. This hierarchy of clusters is represented as a tree (or dendrogram).**"
   ]
  },
  {
   "cell_type": "markdown",
   "id": "6da0cb62",
   "metadata": {},
   "source": [
    "### Agglomerative(bottom-up) & Divisiv(Top down)"
   ]
  },
  {
   "cell_type": "markdown",
   "id": "3b9d8080",
   "metadata": {},
   "source": [
    "**Agglomerative clustering**: It’s also known as AGNES (Agglomerative Nesting). It works in a bottom-up manner. That is, each object is initially considered as a single-element cluster (leaf). At each step of the algorithm, the two clusters that are the most similar are combined into a new bigger cluster (nodes). This procedure is iterated until all points are member of just one single big cluster (root) (see figure below). The result is a tree which can be plotted as a dendrogram.\n",
    "\n",
    "* The AgglomerativeClustering object performs a hierarchical clustering using a bottom up approach: each observation starts in its own cluster, and clusters are successively merged together. The linkage criteria determines the metric used for the merge strategy:\n",
    "\n",
    "**Divisive hierarchical clustering**: It’s also known as DIANA (Divise Analysis) and it works in a top-down manner. The algorithm is an inverse order of AGNES. It begins with the root, in which all objects are included in a single cluster. At each step of iteration, the most heterogeneous cluster is divided into two. The process is iterated until all objects are in their own cluster"
   ]
  },
  {
   "cell_type": "markdown",
   "id": "84c8819b",
   "metadata": {},
   "source": [
    "**How do we measure the dissimilarity between two clusters of observations?**"
   ]
  },
  {
   "cell_type": "markdown",
   "id": "a9a691f8",
   "metadata": {},
   "source": [
    "* `Maximum or complete linkage`: It computes all pairwise dissimilarities between the elements in cluster 1 and the elements in cluster 2, and considers the largest value (i.e., maximum value) of these dissimilarities as the distance between the two clusters. It tends to produce more compact clusters.\n",
    "* `Minimum or single linkage`: It computes all pairwise dissimilarities between the elements in cluster 1 and the elements in cluster 2, and considers the smallest of these dissimilarities as a linkage criterion. It tends to produce long, “loose” clusters.\n",
    "* `Mean or average linkage`: It computes all pairwise dissimilarities between the elements in cluster 1 and the elements in cluster 2, and considers the average of these dissimilarities as the distance between the two clusters.\n",
    "* `Centroid linkage`: It computes the dissimilarity between the centroid for cluster 1 (a mean vector of length p variables) and the centroid for cluster 2.\n",
    "* `Ward’s minimum variance`: It minimizes the total within-cluster variance. At each step the pair of clusters with minimum between-cluster distance are merged."
   ]
  },
  {
   "cell_type": "markdown",
   "id": "ff6a526e",
   "metadata": {},
   "source": [
    "**When do you stop combining clusters?**\n",
    "* Approach 1: Pick a number k upfront, and stop when we have `k clusters` : Makes sense when we know that the data naturally falls into k classes\n",
    "* Approach 2: Stop when the next merge would create a cluster with low `cohesion` i.e, a \"bad\" cluster"
   ]
  },
  {
   "cell_type": "markdown",
   "id": "b3a0a156",
   "metadata": {},
   "source": [
    "**Cohesion**\n",
    "* Diameter of the cluster : Maximum distance between two points in the cluster \n",
    "* Radius : Maximum distance of the cluster centroid and a point in the cluster \n",
    "* Density Based : Number of elements in a unit volumn. "
   ]
  },
  {
   "cell_type": "code",
   "execution_count": null,
   "id": "93d01118",
   "metadata": {},
   "outputs": [],
   "source": []
  }
 ],
 "metadata": {
  "kernelspec": {
   "display_name": "Python 3 (ipykernel)",
   "language": "python",
   "name": "python3"
  },
  "language_info": {
   "codemirror_mode": {
    "name": "ipython",
    "version": 3
   },
   "file_extension": ".py",
   "mimetype": "text/x-python",
   "name": "python",
   "nbconvert_exporter": "python",
   "pygments_lexer": "ipython3",
   "version": "3.11.5"
  }
 },
 "nbformat": 4,
 "nbformat_minor": 5
}
